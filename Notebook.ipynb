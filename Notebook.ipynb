{
 "cells": [
  {
   "cell_type": "markdown",
   "metadata": {},
   "source": [
    "# Peer-graded Assignment\n",
    "## Capstone Project - The Battle of Neighborhoods (Week 1)"
   ]
  },
  {
   "cell_type": "markdown",
   "metadata": {
    "heading_collapsed": true
   },
   "source": [
    "## Configuration"
   ]
  },
  {
   "cell_type": "markdown",
   "metadata": {
    "hidden": true
   },
   "source": [
    "### Import the necessary libraries"
   ]
  },
  {
   "cell_type": "code",
   "execution_count": null,
   "metadata": {
    "hidden": true
   },
   "outputs": [],
   "source": [
    "import colorsys, folium, geocoder, imgkit, json, lxml, math, os, re, requests, sys, time, urllib\n",
    "import numpy                    as np\n",
    "import pandas                   as pd\n",
    "import matplotlib.pyplot        as plt\n",
    "import matplotlib.pylab         as pylab\n",
    "import matplotlib.cm            as cm\n",
    "import matplotlib.colors        as colors\n",
    "import seaborn                  as sns\n",
    "from   bs4                      import BeautifulSoup\n",
    "from   geopy.geocoders          import Nominatim\n",
    "from   geopy.distance           import distance\n",
    "from   geopy.extra.rate_limiter import RateLimiter\n",
    "from   sklearn.cluster          import KMeans\n",
    "from   sklearn.svm              import SVR\n",
    "from   sklearn.model_selection  import GridSearchCV\n",
    "from   sklearn.preprocessing    import PolynomialFeatures, StandardScaler\n",
    "from   sklearn                  import preprocessing, linear_model, model_selection, metrics\n",
    "from   yellowbrick.cluster      import KElbowVisualizer\n",
    "from   tqdm                     import tqdm\n",
    "from   selenium                 import webdriver"
   ]
  },
  {
   "cell_type": "markdown",
   "metadata": {
    "hidden": true
   },
   "source": [
    "### Configure Directories, Plotting Parameters, and Define the Cities of Interest"
   ]
  },
  {
   "cell_type": "code",
   "execution_count": null,
   "metadata": {
    "hidden": true
   },
   "outputs": [],
   "source": [
    "dataDir   = \"./Data/\"\n",
    "figureDir = \"./Figures/\"\n",
    "\n",
    "pylab.rcParams.update({\"figure.figsize\" : (10, 7),\n",
    "                       \"axes.labelsize\" : \"x-large\",\n",
    "                       \"axes.titlesize\" : \"x-large\",\n",
    "                       \"legend.fontsize\": \"x-large\",\n",
    "                       \"xtick.labelsize\": \"x-large\",\n",
    "                       \"ytick.labelsize\": \"x-large\"})\n",
    "\n",
    "citiesOfInterest = [{\"name\": \"Brisbane\",  \"state\": {\"name\": \"Queensland\",        \"abbreviation\": \"qld\"}},\n",
    "                    {\"name\": \"Melbourne\", \"state\": {\"name\": \"Victoria\",          \"abbreviation\": \"vic\"}},\n",
    "                    {\"name\": \"Sydney\",    \"state\": {\"name\": \"New South Wales\",   \"abbreviation\": \"nsw\"}},\n",
    "                    {\"name\": \"Perth\",     \"state\": {\"name\": \"Western Australia\", \"abbreviation\": \"wa\"}}]\n"
   ]
  },
  {
   "cell_type": "markdown",
   "metadata": {},
   "source": [
    "## Generate Dataset"
   ]
  },
  {
   "cell_type": "markdown",
   "metadata": {
    "heading_collapsed": true
   },
   "source": [
    "### Scrape Suburb Price Data with Beautiful Soup"
   ]
  },
  {
   "cell_type": "code",
   "execution_count": null,
   "metadata": {
    "code_folding": [],
    "hidden": true
   },
   "outputs": [],
   "source": [
    "def getSuburbAndPriceData(city):\n",
    "\n",
    "    maxNumPages = 30\n",
    "    data        = pd.DataFrame(columns=[\"Suburb\", \"Search Name\", \"Price [$]\"])\n",
    "\n",
    "    for page in range(maxNumPages):\n",
    "\n",
    "        url    = \"http://house.speakingsame.com/suburbtop.php?sta={}&cat=HomePrice&name=&page={}\" \\\n",
    "                 .format(city[\"state\"][\"abbreviation\"], page)\n",
    "        source = requests.get(url).text\n",
    "        soup   = BeautifulSoup(source, \"lxml\")\n",
    "\n",
    "        for row in soup.find_all(\"table\")[-2].find_all(\"tr\"):\n",
    "\n",
    "            if row.find_all(\"td\", text=re.compile(\"\\$\\d+(?:\\,\\d+)?\")):\n",
    "\n",
    "                suburb  = row.td.next_sibling.text\n",
    "                price   = row.td.next_sibling.next_sibling.text\n",
    "                data    = data.append({\"Suburb\":      suburb,\n",
    "                                       \"Search Name\": suburb + \" \" + \" Australia\",\n",
    "                                       \"Price [$]\":   price.strip(\"$\")},\n",
    "                                       ignore_index=True)\n",
    "                sys.stdout.write(\".\")\n",
    "        sys.stdout.write(\"\\n\")\n",
    "                \n",
    "    return data"
   ]
  },
  {
   "cell_type": "markdown",
   "metadata": {
    "heading_collapsed": true
   },
   "source": [
    "### Get Geographical Coordinates with Nominatum"
   ]
  },
  {
   "cell_type": "code",
   "execution_count": null,
   "metadata": {
    "code_folding": [],
    "hidden": true
   },
   "outputs": [],
   "source": [
    "def getLocationData(city, data):\n",
    "    \n",
    "    tqdm.pandas()\n",
    "    \n",
    "    geolocator = Nominatim(user_agent=\"AustralianExplorer\")\n",
    "    geocode    = RateLimiter(geolocator.geocode, min_delay_seconds=1, swallow_exceptions=True)\n",
    "    cbd        = geolocator.geocode(city[\"name\"], timeout=1000)\n",
    "\n",
    "    data[\"Location [Deg]\"]       =  data[\"Search Name\"].progress_apply(geocode).apply(lambda location: (location.latitude, location.longitude) if location else None)\n",
    "    data[\"Distance to CBD [km]\"] = [ distance(location, (cbd.latitude, cbd.longitude)).km for location in data[\"Location [Deg]\"] ]\n",
    "\n",
    "    return data"
   ]
  },
  {
   "cell_type": "markdown",
   "metadata": {
    "heading_collapsed": true
   },
   "source": [
    "### Get Nearby Venue Information with Foursquare"
   ]
  },
  {
   "cell_type": "code",
   "execution_count": null,
   "metadata": {
    "hidden": true
   },
   "outputs": [],
   "source": [
    "CLIENT_ID     = \"HIIHGUND2MSZDULMWUO213NKCZHP0U2DNMLYVPWSWR25MZND\" # My Foursquare ID\n",
    "CLIENT_SECRET = \"OCIZI2HV4RUH2XCOEQYCX5CGQPGGCHWTPTOAFX4LSBZMESGY\" # My Foursquare Secret\n",
    "VERSION       = \"20180605\"                                         # Foursquare API version"
   ]
  },
  {
   "cell_type": "code",
   "execution_count": null,
   "metadata": {
    "code_folding": [
     0
    ],
    "hidden": true
   },
   "outputs": [],
   "source": [
    "def getNearbyVenues(locations, radius=1000, limit=100):\n",
    "    \n",
    "    nearbyVenues = pd.DataFrame(columns=[\"Suburb\", \n",
    "                                         \"Location [Deg]\", \n",
    "                                         \"Distance to CBD [km]\",\n",
    "                                         \"Venue Name\",\n",
    "                                         \"Venue Category\",\n",
    "                                         \"Price [$]\"])\n",
    "    \n",
    "    for suburb, location, distance, price in zip(locations[\"Suburb\"], \n",
    "                                                 locations[\"Location [Deg]\"], \n",
    "                                                 locations[\"Distance to CBD [km]\"],\n",
    "                                                 locations[\"Price [$]\"]):\n",
    "        location = eval(location)\n",
    "        attempt = 0\n",
    "        success = False\n",
    "        url     = \"https://api.foursquare.com/v2/venues/explore?&client_id={}&client_secret={}&v={}&ll={},{}&radius={}&limit={}\" \\\n",
    "                  .format(CLIENT_ID, CLIENT_SECRET, VERSION, location[0], location[1], radius, limit)\n",
    "            \n",
    "#         sys.stdout.write(\"Exploring \" + suburb + \": \")\n",
    "        while not success and attempt<10:\n",
    "            sys.stdout.write(\".\")\n",
    "            try:\n",
    "                results = requests.get(url).json()[\"response\"][\"groups\"][0][\"items\"]  \n",
    "                for result in results:\n",
    "                    nearbyVenues = nearbyVenues.append(\n",
    "                             {\"Suburb\":               suburb, \n",
    "                              \"Location [Deg]\":       location, \n",
    "                              \"Distance to CBD [km]\": distance,\n",
    "                              \"Price [$]\":            price,\n",
    "                              \"Venue Name\":           result[\"venue\"][\"name\"],\n",
    "                              \"Venue Category\":       result[\"venue\"][\"categories\"][0][\"name\"]}, \n",
    "                              ignore_index=True)\n",
    "                success  = True\n",
    "                sys.stdout.write(\"\\n\")\n",
    "            except:\n",
    "                attempt += 1\n",
    "                pass\n",
    "            if not success:\n",
    "                sys.stdout.write(\"Unable to explore, hence it will be dropped.\\n\")\n",
    "    \n",
    "    return(nearbyVenues)"
   ]
  },
  {
   "cell_type": "markdown",
   "metadata": {
    "heading_collapsed": true
   },
   "source": [
    "### Compile Data for each City of Interest"
   ]
  },
  {
   "cell_type": "code",
   "execution_count": null,
   "metadata": {
    "code_folding": [],
    "hidden": true
   },
   "outputs": [],
   "source": [
    "maxDistanceFromCBD = 40.0 # [km]\n",
    "for city in citiesOfInterest:\n",
    "    data = getSuburbAndPriceData(city)\n",
    "    data = getLocationData(city, data)\n",
    "    data.dropna(inplace=True)\n",
    "    data.drop(data[data[\"Distance to CBD [km]\"].astype(float)>maxDistanceFromCBD].index, inplace=True)\n",
    "    data.to_csv(dataDir+city[\"name\"]+\"Data.csv\", index=False)\n",
    "    venues = getNearbyVenues(data)\n",
    "    venues.to_csv(dataDir+city[\"name\"]+\"Venues.csv\", index=False) "
   ]
  },
  {
   "cell_type": "markdown",
   "metadata": {},
   "source": [
    "## Analysis"
   ]
  },
  {
   "cell_type": "markdown",
   "metadata": {
    "heading_collapsed": true
   },
   "source": [
    "### Preliminary Visualisations of Suburb Prices"
   ]
  },
  {
   "cell_type": "code",
   "execution_count": null,
   "metadata": {
    "code_folding": [
     2
    ],
    "hidden": true
   },
   "outputs": [],
   "source": [
    "plt.figure()\n",
    "for city in citiesOfInterest:\n",
    "    cityData    = pd.read_csv(dataDir+city[\"name\"]+\"Data.csv\")\n",
    "    priceValues = cityData[\"Price [$]\"].apply(lambda price : float(price.replace(\",\",\"\"))/1.0e6)\n",
    "    distPlot    = sns.distplot(priceValues, hist=False, rug=False, label=city[\"name\"])\n",
    "plt.xlim(0.0, 5.0)\n",
    "plt.xlabel(\"Price [$M]\")\n",
    "plt.show()\n",
    "distPlot.get_figure().savefig(figureDir+\"SuburbPriceDistributionsForAllCities.png\")"
   ]
  },
  {
   "cell_type": "markdown",
   "metadata": {
    "heading_collapsed": true
   },
   "source": [
    "### Functions to Create and Save Folium Maps with Markers"
   ]
  },
  {
   "cell_type": "code",
   "execution_count": null,
   "metadata": {
    "code_folding": [
     0
    ],
    "hidden": true
   },
   "outputs": [],
   "source": [
    "def saveFoliumMapAsPNG(city, cityMap, Visualisation):\n",
    "    mapDummyName = \"Map.html\"\n",
    "    driver       = webdriver.Chrome()\n",
    "    cityMap.save(figureDir+mapDummyName)\n",
    "    driver.set_window_size(800, 600)\n",
    "    driver.get(\"file://\"+os.path.join(urllib.request.pathname2url(os.getcwd()), figureDir)+mapDummyName)\n",
    "    driver.save_screenshot(figureDir+city[\"name\"]+Visualisation+\".png\")\n",
    "    driver.quit()\n",
    "    return"
   ]
  },
  {
   "cell_type": "code",
   "execution_count": null,
   "metadata": {
    "code_folding": [
     0
    ],
    "hidden": true
   },
   "outputs": [],
   "source": [
    "def generateFoliumMap(city, data, numMarkers, markerVariable, markerName):\n",
    "    \n",
    "    geolocator  = Nominatim(user_agent=\"AustralianExplorer\")\n",
    "    cityData    = pd.read_csv(dataDir+city[\"name\"]+\"Data.csv\")\n",
    "    cbd         = geolocator.geocode(city[\"name\"])\n",
    "    cityMap     = folium.Map(location=[cbd.latitude, cbd.longitude], zoom_start=10)\n",
    "    colours     = [colors.rgb2hex(i) for i in cm.autumn(np.linspace(0, 1, numMarkers))]\n",
    "\n",
    "    for name, location, price, marker in zip(cityData[\"Suburb\"], \n",
    "                                             cityData[\"Location [Deg]\"], \n",
    "                                             cityData[\"Price [$]\"], \n",
    "                                             markerVariable):\n",
    "        folium.CircleMarker(eval(location), \n",
    "                            popup=name+\", $\"+price, \n",
    "                            color=colours[marker],\n",
    "                            radius=4,\n",
    "                            fill=True,\n",
    "                            fill_color=colours[marker],\n",
    "                            fill_opacity=0.7).add_to(cityMap)\n",
    "    cityMap\n",
    "    saveFoliumMapAsPNG(city, cityMap, markerName)"
   ]
  },
  {
   "cell_type": "markdown",
   "metadata": {
    "heading_collapsed": true
   },
   "source": [
    "### Folium Map to Visualise the Suburbs by Price [$M]"
   ]
  },
  {
   "cell_type": "code",
   "execution_count": null,
   "metadata": {
    "code_folding": [],
    "hidden": true
   },
   "outputs": [],
   "source": [
    "for city in citiesOfInterest:\n",
    "    data        = pd.read_csv(dataDir+city[\"name\"]+\"Data.csv\")\n",
    "    numBins     = 3\n",
    "    priceValues = data[\"Price [$]\"].apply(lambda price : float(price.replace(\",\",\"\"))/1.0e6)\n",
    "    bins        = pd.qcut(priceValues, q=numBins, labels=False)\n",
    "    generateFoliumMap(city, data, numBins, bins, \"Prices\")"
   ]
  },
  {
   "cell_type": "markdown",
   "metadata": {
    "heading_collapsed": true
   },
   "source": [
    "### Folium Map to Visualise the Suburbs by Distance to CBD [km]"
   ]
  },
  {
   "cell_type": "code",
   "execution_count": null,
   "metadata": {
    "code_folding": [
     0
    ],
    "hidden": true
   },
   "outputs": [],
   "source": [
    "for city in citiesOfInterest:\n",
    "    data        = pd.read_csv(dataDir+city[\"name\"]+\"Data.csv\")\n",
    "    numBins     = 10\n",
    "    distances   = data[\"Distance to CBD [km]\"]\n",
    "    bins        = pd.qcut(data[\"Distance to CBD [km]\"], q=numBins, labels=False)\n",
    "    generateFoliumMap(city, data, numBins, bins, \"DistanceToCBD\")"
   ]
  },
  {
   "cell_type": "markdown",
   "metadata": {
    "heading_collapsed": true
   },
   "source": [
    "### Analyse Each Suburb"
   ]
  },
  {
   "cell_type": "code",
   "execution_count": null,
   "metadata": {
    "code_folding": [
     0
    ],
    "hidden": true
   },
   "outputs": [],
   "source": [
    "def sortVenues(row, numTopVenues):\n",
    "    rowCategories       = row.iloc[1:]\n",
    "    rowCategoriesSorted = rowCategories.sort_values(ascending=False)\n",
    "    return rowCategoriesSorted.index.values[0:numTopVenues]"
   ]
  },
  {
   "cell_type": "code",
   "execution_count": null,
   "metadata": {
    "code_folding": [
     0
    ],
    "hidden": true
   },
   "outputs": [],
   "source": [
    "def getOneHotVenueCategories(city):\n",
    "    \n",
    "    cityVenues             = pd.read_csv(dataDir+city[\"name\"]+\"Venues.csv\")\n",
    "    venuesOneHot           = pd.get_dummies(cityVenues[[\"Venue Category\"]], prefix=\"\", prefix_sep=\"\")\n",
    "    venuesOneHot[\"Suburb\"] = cityVenues[\"Suburb\"]\n",
    "    venuesGrouped          = venuesOneHot.groupby(\"Suburb\").sum().reset_index()\n",
    "    venuesGrouped.drop([\"Suburb\"], 1, inplace=True)\n",
    "    \n",
    "    return venuesGrouped"
   ]
  },
  {
   "cell_type": "code",
   "execution_count": null,
   "metadata": {
    "code_folding": [
     0
    ],
    "hidden": true
   },
   "outputs": [],
   "source": [
    "def getMostComonVenues(city):\n",
    "    \n",
    "    numTopVenues  = 10\n",
    "    cityVenues    = pd.read_csv(dataDir+city[\"name\"]+\"Venues.csv\")\n",
    "    venuesSorted  = pd.DataFrame(columns=[\"Suburb\", \"Location [Deg]\", \"Distance to CBD [km]\", \"Price [$]\"] + [\"Venue #{}\".format(index+1) for index in range(numTopVenues)])\n",
    "    venuesGrouped = getOneHotVenueCategories(city)\n",
    "    \n",
    "    venuesSorted[\"Suburb\"] = cityVenues[\"Suburb\"].unique()\n",
    "    for index in np.arange(venuesGrouped.shape[0]):\n",
    "        jndex = cityVenues.index[cityVenues[\"Suburb\"]==venuesSorted.iloc[index, 0]][0]\n",
    "        venuesSorted.iloc[index, 1:3] = cityVenues.iloc[jndex,1:3]\n",
    "        venuesSorted.iloc[index, 3  ] = cityVenues.iloc[jndex, -1]\n",
    "        venuesSorted.iloc[index, 2  ] = cityVenues.iloc[jndex,2  ]\n",
    "        venuesSorted.iloc[index, 4:]  = sortVenues(venuesGrouped.iloc[index, :], numTopVenues)\n",
    "    \n",
    "    return venuesSorted\n"
   ]
  },
  {
   "cell_type": "code",
   "execution_count": null,
   "metadata": {
    "code_folding": [
     0
    ],
    "hidden": true
   },
   "outputs": [],
   "source": [
    "def saveDataFrameAsPNG(data, outputfile, format=\"png\"):\n",
    "\n",
    "    css = \"\"\"\n",
    "    <style type=\\\"text/css\\\">\n",
    "    table {\n",
    "    color: #333;\n",
    "    font-family: Helvetica, Arial, sans-serif;\n",
    "    border-collapse:\n",
    "    collapse; \n",
    "    border-spacing: 0;\n",
    "    }\n",
    "    td, th {\n",
    "    border: 1px solid transparent; \n",
    "    height: 30px;\n",
    "    }\n",
    "    th {\n",
    "    background: #FAFAFA; /* Darken header a bit */\n",
    "    text-align: center;\n",
    "    font-weight: bold;\n",
    "    font-size: 10px;\n",
    "    }\n",
    "    td {\n",
    "    background: #CCCCCC;\n",
    "    text-align: center;\n",
    "    font-size: 10px;\n",
    "    }\n",
    "    table tr:nth-child(odd) td{\n",
    "    background-color: white;\n",
    "    }\n",
    "    </style>\n",
    "    \"\"\"\n",
    "    \n",
    "    fn = str(np.random.random()*100000000).split(\".\")[0] + \".html\"\n",
    "    \n",
    "    try:\n",
    "        os.remove(fn)\n",
    "    except:\n",
    "        None\n",
    "    text_file = open(fn, \"a\")\n",
    "    \n",
    "    text_file.write(css)\n",
    "    text_file.write(data.to_html())\n",
    "    text_file.close()\n",
    "    imgkitoptions = {\"format\": format}\n",
    "    imgkit.from_file(fn, outputfile, options=imgkitoptions)\n",
    "    os.remove(fn)\n",
    "    \n",
    "    return"
   ]
  },
  {
   "cell_type": "markdown",
   "metadata": {
    "heading_collapsed": true
   },
   "source": [
    "### Create a DataFrame with the Top 10 Most Common Venues"
   ]
  },
  {
   "cell_type": "code",
   "execution_count": null,
   "metadata": {
    "code_folding": [],
    "hidden": true
   },
   "outputs": [],
   "source": [
    "for city in citiesOfInterest:\n",
    "    \n",
    "    venuesSorted = getMostComonVenues(city)\n",
    "    venuesSorted.to_csv(dataDir+city[\"name\"]+\"MostCommonVenues.csv\", index=False)\n",
    "    "
   ]
  },
  {
   "cell_type": "code",
   "execution_count": null,
   "metadata": {
    "code_folding": [],
    "hidden": true
   },
   "outputs": [],
   "source": [
    "for city in citiesOfInterest:\n",
    "    \n",
    "    venuesSorted = pd.read_csv(dataDir+city[\"name\"]+\"MostCommonVenues.csv\")\n",
    "    \n",
    "    venuesSorted[\"Price [$]\"] = venuesSorted[\"Price [$]\"].apply(lambda price : float(price.replace(\",\",\"\"))/1.0e6)\n",
    "\n",
    "    venuesSorted.sort_values(by=[\"Price [$]\"], ascending=False)\n",
    "    venuesSorted.rename(columns={\"Price [$]\": \"Price [$M]\"}, inplace=True)\n",
    "    \n",
    "    venuesSorted[\"Price [$M]\"]           = venuesSorted[\"Price [$M]\"]          .apply(lambda distance : \"{:.1f}\".format(distance))\n",
    "    venuesSorted[\"Distance to CBD [km]\"] = venuesSorted[\"Distance to CBD [km]\"].apply(lambda distance : \"{:.1f}\".format(distance))\n",
    "    venuesSorted.drop([\"Location [Deg]\"],               1, inplace=True)\n",
    "    venuesSorted.drop(range(2,venuesSorted.shape[0]-2), 0, inplace=True)\n",
    "\n",
    "    saveDataFrameAsPNG(venuesSorted, figureDir+city[\"name\"]+\"MostCommonVenues.png\")\n",
    "    "
   ]
  },
  {
   "cell_type": "markdown",
   "metadata": {
    "heading_collapsed": true
   },
   "source": [
    "### K-Means Analysis to Cluster Suburbs"
   ]
  },
  {
   "cell_type": "code",
   "execution_count": null,
   "metadata": {
    "code_folding": [],
    "hidden": true
   },
   "outputs": [],
   "source": [
    "for city in citiesOfInterest:\n",
    "    \n",
    "    plt.figure()\n",
    "    venuesGrouped = getOneHotVenueCategories(city)\n",
    "    visualizer    = KElbowVisualizer(KMeans(), k=(2,30))\n",
    "\n",
    "    visualizer.fit(venuesGrouped) \n",
    "    visualizer.show(figureDir+city[\"name\"]+\"DistortionScoreElbow.png\")\n",
    "\n",
    "    numClusters = visualizer.elbow_value_\n",
    "    model       = KMeans(n_clusters=numClusters, random_state=0).fit(venuesGrouped)\n",
    "\n",
    "    venuesGrouped[\"Cluster Label\"] = model.labels_\n",
    "    \n",
    "    generateFoliumMap(city, venuesGrouped, numClusters, venuesGrouped[\"Cluster Label\"], \"Clusters\")"
   ]
  },
  {
   "cell_type": "markdown",
   "metadata": {
    "heading_collapsed": true
   },
   "source": [
    "### Create Polynomial Regression Model to Predict Median House Price from Distance to CBD"
   ]
  },
  {
   "cell_type": "code",
   "execution_count": null,
   "metadata": {
    "code_folding": [],
    "hidden": true
   },
   "outputs": [],
   "source": [
    "for city in citiesOfInterest:\n",
    "    \n",
    "    cityData = pd.read_csv(dataDir+city[\"name\"]+\"Data.csv\")\n",
    "    X        = cityData[\"Distance to CBD [km]\"].astype(float).values.reshape((cityData.shape[0],1))\n",
    "    y        = cityData[\"Price [$]\"].apply(lambda price : float(price.replace(\",\",\"\"))/1.0e6).astype(float).values\n",
    "    model    = linear_model.LinearRegression()\n",
    "    poly     = PolynomialFeatures(degree=2)\n",
    "    X_train  = poly.fit_transform(X)\n",
    "    y_train  = y\n",
    "    y_test   = model.fit(X_train, y_train).predict(X_train)\n",
    "\n",
    "    plt.figure(figsize=(10,7))\n",
    "    plt.scatter(X, y)\n",
    "    XX = np.sort(X, axis=None)\n",
    "    yy = model.intercept_ + model.coef_[1]*XX+ model.coef_[2]*np.power(XX, 2)\n",
    "\n",
    "    print(\"\\n\",city[\"name\"])\n",
    "    print(\"Mean squared error:\", metrics.mean_squared_error(y, yy))\n",
    "\n",
    "\n",
    "    plt.plot(XX, yy, \"-r\")\n",
    "    plt.xlim(0.0, 40.0)\n",
    "    plt.ylim(0.0,  2.0)\n",
    "    plt.xlabel(\"Distance to CBD [km]\")\n",
    "    plt.ylabel(\"Price [$M]\")\n",
    "    plt.title(city[\"name\"])\n",
    "    plt.savefig(figureDir+city[\"name\"]+\"PriceVsDistanceToCBD.png\")\n",
    "    "
   ]
  },
  {
   "cell_type": "markdown",
   "metadata": {
    "heading_collapsed": true
   },
   "source": [
    "### Create Support Vector Regressor to Predict Median House Price from Neighbouring Venues"
   ]
  },
  {
   "cell_type": "code",
   "execution_count": null,
   "metadata": {
    "code_folding": [],
    "hidden": true
   },
   "outputs": [],
   "source": [
    "for city in citiesOfInterest:\n",
    "    \n",
    "    cityData               = pd.read_csv(dataDir+city[\"name\"]+\"MostCommonVenues.csv\")\n",
    "    cityData[\"Price [$M]\"] = cityData[\"Price [$]\"].apply(lambda price : float(price.replace(\",\",\"\"))/1e6)\n",
    "\n",
    "    X = getOneHotVenueCategories(city).values.astype(float)\n",
    "    y = cityData[\"Price [$M]\"] \n",
    "    X = StandardScaler().fit(X).transform(X)\n",
    "\n",
    "    paramGrid = {\"kernel\": [\"linear\", \"poly\", \"rbf\"], \n",
    "                 \"degree\": np.arange(1, 6), \n",
    "                 \"gamma\":  [\"scale\", \"auto\"],\n",
    "                 \"C\":      np.logspace(-4,0,5)}\n",
    "    svrSearch = GridSearchCV(SVR(), paramGrid, cv=5).fit(X, y)\n",
    "    print(\"SVM best params:\", svrSearch.best_params_, \", best score:\", svrSearch.best_score_)\n",
    "\n",
    "    X_train, X_test, y_train, y_test = model_selection.train_test_split(X, y, test_size=0.3, random_state=1)\n",
    "    \n",
    "    model     = SVR(kernel=svrSearch.best_params_[\"kernel\"],\n",
    "                    degree=svrSearch.best_params_[\"degree\"],\n",
    "                    gamma =svrSearch.best_params_[\"gamma\"],\n",
    "                    C     =svrSearch.best_params_[\"C\"]).fit(X_train, y_train)\n",
    "\n",
    "    \n",
    "    print(city[\"name\"], \"Mean squared error:\", metrics.mean_squared_error(y_test, model.predict(X_test)))\n"
   ]
  }
 ],
 "metadata": {
  "kernelspec": {
   "display_name": "Python 3",
   "language": "python",
   "name": "python3"
  },
  "language_info": {
   "codemirror_mode": {
    "name": "ipython",
    "version": 3
   },
   "file_extension": ".py",
   "mimetype": "text/x-python",
   "name": "python",
   "nbconvert_exporter": "python",
   "pygments_lexer": "ipython3",
   "version": "3.5.9"
  },
  "latex_envs": {
   "LaTeX_envs_menu_present": true,
   "autoclose": false,
   "autocomplete": true,
   "bibliofile": "biblio.bib",
   "cite_by": "apalike",
   "current_citInitial": 1,
   "eqLabelWithNumbers": true,
   "eqNumInitial": 1,
   "hotkeys": {
    "equation": "Ctrl-E",
    "itemize": "Ctrl-I"
   },
   "labels_anchors": false,
   "latex_user_defs": false,
   "report_style_numbering": false,
   "user_envs_cfg": false
  }
 },
 "nbformat": 4,
 "nbformat_minor": 4
}
