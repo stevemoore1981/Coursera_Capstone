{
 "cells": [
  {
   "cell_type": "markdown",
   "metadata": {},
   "source": [
    "# Segmenting and Clustering Neighbourhoods in Toronto\n",
    "## Applied Data Science Capstone \n",
    "### IBM Data Science Professional Certificate"
   ]
  },
  {
   "cell_type": "code",
   "execution_count": 54,
   "metadata": {},
   "outputs": [],
   "source": [
    "from bs4 import BeautifulSoup\n",
    "import lxml, requests\n",
    "import pandas as pd"
   ]
  },
  {
   "cell_type": "code",
   "execution_count": 55,
   "metadata": {},
   "outputs": [],
   "source": [
    "url    = \"https://en.wikipedia.org/wiki/List_of_postal_codes_of_Canada:_M\"\n",
    "source = requests.get(url).text\n",
    "soup   = BeautifulSoup(source, 'lxml')"
   ]
  },
  {
   "cell_type": "markdown",
   "metadata": {},
   "source": [
    "### Approach for Generating the Dataframe\n",
    "\n",
    "* The Wikipedia page appears to contain 4 HTML 'table' tags, but we're interested in the first one\n",
    "* After selecting this table, we find all of the 'td' tags (i.e. standard table cells) and loop through them\n",
    "* In the cell there is a paragraph that contains the postal code inside a 'b' tag, so we pull this out\n",
    "* If the postal code has an assigned borough, it will be inside an 'a' (i.e. hyperlink) tag and similar for the neighborhoods\n",
    "* We find all of the 'a' tags and loop over them. If a postal code doesn't have a borough we won't enter this loop\n",
    "* Assuming that some hyperlinks, we assign the borough to be the text from the first one\n",
    "* We then create a list of neighborhoods from the remaining hyperlinds \n",
    "* We then conditionally define the neighborhood to be either a comma separated list of neighborhoods that were found, or the borough, if no neighborhoods were found\n",
    "* Finally we append a row to the postal codes dataframe"
   ]
  },
  {
   "cell_type": "code",
   "execution_count": 113,
   "metadata": {},
   "outputs": [],
   "source": [
    "postalCodesTBL = soup.find_all(\"table\")[0] # There are a few tables, we want the first one\n",
    "postalCodesDF  = pd.DataFrame(columns=[\"PostalCode\", \"Borough\", \"Neighborhood\"])\n",
    "\n",
    "for cell in postalCodesTBL.find_all(\"td\"): # All of the standard cells in our table\n",
    "    postalCode = cell.p.b.text             # The postal code is in the bold text part of the cell paragraph\n",
    "    hyperlinks = cell.p.span.find_all(\"a\") # If there is an assigned borough there will be a hyperlink for it\n",
    "    if len(hyperlinks)>0:                  # If there are neighborhoods assigned, these will subsequent hyperlinks\n",
    "        borough       = hyperlinks[0].text # We're assuming that the borough is always the first hyperlink\n",
    "        neighborhoods = list([hyperlinks[n].text for n in range(1, len(hyperlinks))])        \n",
    "        neighborhood  = ', '.join(map(str, neighborhoods)) if len(neighborhoods)>0 else borough\n",
    "        postalCodesDF = postalCodesDF.append({\"PostalCode\":   postalCode, \n",
    "                                              \"Borough\":      borough, \n",
    "                                              \"Neighborhood\": neighborhood},\n",
    "                                              ignore_index=True)"
   ]
  },
  {
   "cell_type": "code",
   "execution_count": 111,
   "metadata": {},
   "outputs": [
    {
     "data": {
      "text/plain": [
       "(101, 3)"
      ]
     },
     "execution_count": 111,
     "metadata": {},
     "output_type": "execute_result"
    }
   ],
   "source": [
    "postalCodesDF.shape"
   ]
  },
  {
   "cell_type": "code",
   "execution_count": null,
   "metadata": {},
   "outputs": [],
   "source": []
  }
 ],
 "metadata": {
  "kernelspec": {
   "display_name": "Python 3",
   "language": "python",
   "name": "python3"
  },
  "language_info": {
   "codemirror_mode": {
    "name": "ipython",
    "version": 3
   },
   "file_extension": ".py",
   "mimetype": "text/x-python",
   "name": "python",
   "nbconvert_exporter": "python",
   "pygments_lexer": "ipython3",
   "version": "3.5.9"
  },
  "latex_envs": {
   "LaTeX_envs_menu_present": true,
   "autoclose": false,
   "autocomplete": true,
   "bibliofile": "biblio.bib",
   "cite_by": "apalike",
   "current_citInitial": 1,
   "eqLabelWithNumbers": true,
   "eqNumInitial": 1,
   "hotkeys": {
    "equation": "Ctrl-E",
    "itemize": "Ctrl-I"
   },
   "labels_anchors": false,
   "latex_user_defs": false,
   "report_style_numbering": false,
   "user_envs_cfg": false
  }
 },
 "nbformat": 4,
 "nbformat_minor": 4
}
