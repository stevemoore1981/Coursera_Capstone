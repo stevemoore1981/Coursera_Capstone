{
 "cells": [
  {
   "cell_type": "markdown",
   "metadata": {},
   "source": [
    "# Segmenting and Clustering Neighbourhoods in Toronto - Part 01\n",
    "## Applied Data Science Capstone \n",
    "### IBM Data Science Professional Certificate"
   ]
  },
  {
   "cell_type": "code",
   "execution_count": 2,
   "metadata": {},
   "outputs": [],
   "source": [
    "from bs4 import BeautifulSoup\n",
    "import lxml, requests\n",
    "import pandas as pd"
   ]
  },
  {
   "cell_type": "code",
   "execution_count": 3,
   "metadata": {},
   "outputs": [],
   "source": [
    "url    = \"https://en.wikipedia.org/wiki/List_of_postal_codes_of_Canada:_M\"\n",
    "source = requests.get(url).text\n",
    "soup   = BeautifulSoup(source, 'lxml')"
   ]
  },
  {
   "cell_type": "markdown",
   "metadata": {},
   "source": [
    "### Approach for Generating the Dataframe\n",
    "\n",
    "* The Wikipedia page appears to contain 3 HTML 'table' tags, but we're interested in the first one\n",
    "* This table contains each postal code, its assigned borough, and neighbourhood/s as 3 cells in a row\n",
    "* Some postal codes are not assigned a borough, but there don't appear to be any that are assigned a borough without a neighbourhood\n",
    "* We use the beautiful soup method to find all of the rows in the table (via the 'tr' tag) and loop over them\n",
    "* We then find all of the cells in the table (via the 'td' tag)\n",
    "* If there are 3 of them found (which then ignores the table headers with the 'th' tag) we then extract the text and do a bit of simple string replacement to get the data into the correct format for insertion to the dataframe\n",
    "* Finally we append a row to the postal codes dataframe"
   ]
  },
  {
   "cell_type": "code",
   "execution_count": 8,
   "metadata": {},
   "outputs": [],
   "source": [
    "postalCodesTBL = soup.find_all(\"table\")[0] # There are 2 tables, we want the first one\n",
    "postalCodesDF  = pd.DataFrame(columns=[\"PostalCode\", \"Borough\", \"Neighborhood\"])\n",
    "\n",
    "for row in postalCodesTBL.find_all(\"tr\"): # All of the rows in our table\n",
    "    cells = row.find_all(\"td\")\n",
    "    if len(cells)==3:\n",
    "        postalCode   = cells[0].text.replace(\"\\n\",\"\")\n",
    "        borough      = cells[1].text.replace(\"\\n\",\"\")\n",
    "        neighborhood = cells[2].text.replace(\" /\", \",\").replace(\"\\n\",\"\")\n",
    "        if borough.find(\"Not assigned\")==-1:\n",
    "            postalCodesDF = postalCodesDF.append({\"PostalCode\":   postalCode, \n",
    "                                                  \"Borough\":      borough, \n",
    "                                                  \"Neighborhood\": neighborhood},\n",
    "                                                  ignore_index=True)\n",
    "postalCodesDF.head()\n",
    "postalCodesDF.to_csv(\"postalCodes.csv\", index=False)"
   ]
  },
  {
   "cell_type": "code",
   "execution_count": 9,
   "metadata": {},
   "outputs": [
    {
     "data": {
      "text/plain": [
       "(103, 3)"
      ]
     },
     "execution_count": 9,
     "metadata": {},
     "output_type": "execute_result"
    }
   ],
   "source": [
    "postalCodesDF.shape"
   ]
  },
  {
   "cell_type": "code",
   "execution_count": null,
   "metadata": {},
   "outputs": [],
   "source": []
  }
 ],
 "metadata": {
  "kernelspec": {
   "display_name": "Python 3",
   "language": "python",
   "name": "python3"
  },
  "language_info": {
   "codemirror_mode": {
    "name": "ipython",
    "version": 3
   },
   "file_extension": ".py",
   "mimetype": "text/x-python",
   "name": "python",
   "nbconvert_exporter": "python",
   "pygments_lexer": "ipython3",
   "version": "3.5.9"
  },
  "latex_envs": {
   "LaTeX_envs_menu_present": true,
   "autoclose": false,
   "autocomplete": true,
   "bibliofile": "biblio.bib",
   "cite_by": "apalike",
   "current_citInitial": 1,
   "eqLabelWithNumbers": true,
   "eqNumInitial": 1,
   "hotkeys": {
    "equation": "Ctrl-E",
    "itemize": "Ctrl-I"
   },
   "labels_anchors": false,
   "latex_user_defs": false,
   "report_style_numbering": false,
   "user_envs_cfg": false
  }
 },
 "nbformat": 4,
 "nbformat_minor": 4
}
