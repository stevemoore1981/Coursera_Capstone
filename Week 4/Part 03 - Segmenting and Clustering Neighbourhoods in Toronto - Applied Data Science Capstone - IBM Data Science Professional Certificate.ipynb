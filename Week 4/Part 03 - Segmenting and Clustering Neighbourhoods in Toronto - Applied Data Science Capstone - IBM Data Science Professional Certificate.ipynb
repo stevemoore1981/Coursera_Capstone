{
 "cells": [
  {
   "cell_type": "markdown",
   "metadata": {},
   "source": [
    "# Segmenting and Clustering Neighbourhoods in Toronto - Part 03\n",
    "## Applied Data Science Capstone \n",
    "### IBM Data Science Professional Certificate"
   ]
  },
  {
   "cell_type": "code",
   "execution_count": 1,
   "metadata": {},
   "outputs": [],
   "source": [
    "import pandas as pd\n",
    "import matplotlib.cm as cm\n",
    "import matplotlib.colors as colors\n",
    "import numpy as np\n",
    "import folium, requests\n",
    "from   geopy.geocoders import Nominatim\n",
    "from   sklearn.cluster import KMeans"
   ]
  },
  {
   "cell_type": "code",
   "execution_count": null,
   "metadata": {},
   "outputs": [],
   "source": []
  },
  {
   "cell_type": "markdown",
   "metadata": {},
   "source": [
    "### Load in the dataframe that was saved in the previous notebook"
   ]
  },
  {
   "cell_type": "markdown",
   "metadata": {},
   "source": [
    "I'll only consider boroughs that have the \"Toronto\" in the name, so create a new dataframe as a subset of the original neighborhoods dataframe"
   ]
  },
  {
   "cell_type": "code",
   "execution_count": 2,
   "metadata": {},
   "outputs": [
    {
     "data": {
      "text/html": [
       "<div>\n",
       "<style>\n",
       "    .dataframe thead tr:only-child th {\n",
       "        text-align: right;\n",
       "    }\n",
       "\n",
       "    .dataframe thead th {\n",
       "        text-align: left;\n",
       "    }\n",
       "\n",
       "    .dataframe tbody tr th {\n",
       "        vertical-align: top;\n",
       "    }\n",
       "</style>\n",
       "<table border=\"1\" class=\"dataframe\">\n",
       "  <thead>\n",
       "    <tr style=\"text-align: right;\">\n",
       "      <th></th>\n",
       "      <th>PostalCode</th>\n",
       "      <th>Borough</th>\n",
       "      <th>Neighborhood</th>\n",
       "      <th>Latitude</th>\n",
       "      <th>Longitude</th>\n",
       "    </tr>\n",
       "  </thead>\n",
       "  <tbody>\n",
       "    <tr>\n",
       "      <th>0</th>\n",
       "      <td>M4E</td>\n",
       "      <td>East Toronto</td>\n",
       "      <td>The Beaches</td>\n",
       "      <td>43.676357</td>\n",
       "      <td>-79.293031</td>\n",
       "    </tr>\n",
       "    <tr>\n",
       "      <th>1</th>\n",
       "      <td>M4K</td>\n",
       "      <td>East Toronto</td>\n",
       "      <td>The Danforth West, Riverdale</td>\n",
       "      <td>43.679557</td>\n",
       "      <td>-79.352188</td>\n",
       "    </tr>\n",
       "    <tr>\n",
       "      <th>2</th>\n",
       "      <td>M4L</td>\n",
       "      <td>East Toronto</td>\n",
       "      <td>India Bazaar, The Beaches West</td>\n",
       "      <td>43.668999</td>\n",
       "      <td>-79.315572</td>\n",
       "    </tr>\n",
       "    <tr>\n",
       "      <th>3</th>\n",
       "      <td>M4M</td>\n",
       "      <td>East Toronto</td>\n",
       "      <td>Studio District</td>\n",
       "      <td>43.659526</td>\n",
       "      <td>-79.340923</td>\n",
       "    </tr>\n",
       "    <tr>\n",
       "      <th>4</th>\n",
       "      <td>M4N</td>\n",
       "      <td>Central Toronto</td>\n",
       "      <td>Lawrence Park</td>\n",
       "      <td>43.728020</td>\n",
       "      <td>-79.388790</td>\n",
       "    </tr>\n",
       "  </tbody>\n",
       "</table>\n",
       "</div>"
      ],
      "text/plain": [
       "  PostalCode          Borough                    Neighborhood   Latitude  \\\n",
       "0        M4E     East Toronto                     The Beaches  43.676357   \n",
       "1        M4K     East Toronto    The Danforth West, Riverdale  43.679557   \n",
       "2        M4L     East Toronto  India Bazaar, The Beaches West  43.668999   \n",
       "3        M4M     East Toronto                 Studio District  43.659526   \n",
       "4        M4N  Central Toronto                   Lawrence Park  43.728020   \n",
       "\n",
       "   Longitude  \n",
       "0 -79.293031  \n",
       "1 -79.352188  \n",
       "2 -79.315572  \n",
       "3 -79.340923  \n",
       "4 -79.388790  "
      ]
     },
     "execution_count": 2,
     "metadata": {},
     "output_type": "execute_result"
    }
   ],
   "source": [
    "neighborhoods = pd.read_csv(\"neighbourhoods.csv\")\n",
    "torontoData   = neighborhoods[neighborhoods['Borough'].str.contains(\"Toronto\")].reset_index(drop=True)\n",
    "\n",
    "torontoData.head()"
   ]
  },
  {
   "cell_type": "markdown",
   "metadata": {},
   "source": [
    "### Explore and cluster the neighborhoods in Toronto"
   ]
  },
  {
   "cell_type": "markdown",
   "metadata": {},
   "source": [
    "Use Nominatim to get the latitude and longitude of Toronto for later use in the folium map"
   ]
  },
  {
   "cell_type": "code",
   "execution_count": 3,
   "metadata": {},
   "outputs": [
    {
     "name": "stdout",
     "output_type": "stream",
     "text": [
      "The geograpical coordinates of Toronto are 43.6534817, -79.3839347.\n"
     ]
    }
   ],
   "source": [
    "address    = 'Toronto'\n",
    "geolocator = Nominatim(user_agent=\"TorontoExplorer\")\n",
    "toronto    = geolocator.geocode(address)\n",
    "latitude   = toronto.latitude\n",
    "longitude  = toronto.longitude\n",
    "print('The geograpical coordinates of Toronto are {}, {}.'.format(latitude, longitude))"
   ]
  },
  {
   "cell_type": "markdown",
   "metadata": {},
   "source": [
    "Credentials for using the Foursquare API"
   ]
  },
  {
   "cell_type": "code",
   "execution_count": 4,
   "metadata": {},
   "outputs": [
    {
     "name": "stdout",
     "output_type": "stream",
     "text": [
      "My credentails:\n",
      "CLIENT_ID:    HIIHGUND2MSZDULMWUO213NKCZHP0U2DNMLYVPWSWR25MZND\n",
      "CLIENT_SECRET:OCIZI2HV4RUH2XCOEQYCX5CGQPGGCHWTPTOAFX4LSBZMESGY\n"
     ]
    }
   ],
   "source": [
    "CLIENT_ID     = \"HIIHGUND2MSZDULMWUO213NKCZHP0U2DNMLYVPWSWR25MZND\" # My Foursquare ID\n",
    "CLIENT_SECRET = \"OCIZI2HV4RUH2XCOEQYCX5CGQPGGCHWTPTOAFX4LSBZMESGY\" # My Foursquare Secret\n",
    "VERSION       = \"20180605\"                                         # Foursquare API version\n",
    "\n",
    "print(\"My credentails:\")\n",
    "print(\"CLIENT_ID:    \" + CLIENT_ID)\n",
    "print(\"CLIENT_SECRET:\" + CLIENT_SECRET)"
   ]
  },
  {
   "cell_type": "markdown",
   "metadata": {},
   "source": [
    "Use the function defined in the lab to generate a dataframe of venues nearby the latitude and longitude coordinates for a given neighbourhood"
   ]
  },
  {
   "cell_type": "code",
   "execution_count": 5,
   "metadata": {
    "code_folding": [
     0,
     7,
     20
    ]
   },
   "outputs": [],
   "source": [
    "def getNearbyVenues(names, latitudes, longitudes, radius=500, limit=100):\n",
    "    \n",
    "    venues_list=[]\n",
    "    for name, lat, lng in zip(names, latitudes, longitudes):\n",
    "        print(name)\n",
    "            \n",
    "        # create the API request URL\n",
    "        url = 'https://api.foursquare.com/v2/venues/explore?&client_id={}&client_secret={}&v={}&ll={},{}&radius={}&limit={}'.format(\n",
    "            CLIENT_ID, \n",
    "            CLIENT_SECRET, \n",
    "            VERSION, \n",
    "            lat, \n",
    "            lng, \n",
    "            radius, \n",
    "            limit)\n",
    "            \n",
    "        # make the GET request\n",
    "        results = requests.get(url).json()[\"response\"]['groups'][0]['items']\n",
    "        \n",
    "        # return only relevant information for each nearby venue\n",
    "        venues_list.append([(\n",
    "            name, \n",
    "            lat, \n",
    "            lng, \n",
    "            v['venue']['name'], \n",
    "            v['venue']['location']['lat'], \n",
    "            v['venue']['location']['lng'],  \n",
    "            v['venue']['categories'][0]['name']) for v in results])\n",
    "\n",
    "    nearby_venues = pd.DataFrame([item for venue_list in venues_list for item in venue_list])\n",
    "    nearby_venues.columns = ['Neighborhood', \n",
    "                  'Neighborhood Latitude', \n",
    "                  'Neighborhood Longitude', \n",
    "                  'Venue', \n",
    "                  'Venue Latitude', \n",
    "                  'Venue Longitude', \n",
    "                  'Venue Category']\n",
    "    \n",
    "    return(nearby_venues)"
   ]
  },
  {
   "cell_type": "code",
   "execution_count": 6,
   "metadata": {},
   "outputs": [
    {
     "name": "stdout",
     "output_type": "stream",
     "text": [
      "The Beaches\n"
     ]
    },
    {
     "ename": "KeyError",
     "evalue": "'groups'",
     "output_type": "error",
     "traceback": [
      "\u001b[0;31m---------------------------------------------------------------------------\u001b[0m",
      "\u001b[0;31mKeyError\u001b[0m                                  Traceback (most recent call last)",
      "\u001b[0;32m<ipython-input-6-a02167419519>\u001b[0m in \u001b[0;36m<module>\u001b[0;34m\u001b[0m\n\u001b[1;32m      1\u001b[0m torontoVenues = getNearbyVenues(names     =torontoData[\"Neighborhood\"],\n\u001b[1;32m      2\u001b[0m                                 \u001b[0mlatitudes\u001b[0m \u001b[0;34m=\u001b[0m\u001b[0mtorontoData\u001b[0m\u001b[0;34m[\u001b[0m\u001b[0;34m\"Latitude\"\u001b[0m\u001b[0;34m]\u001b[0m\u001b[0;34m,\u001b[0m\u001b[0;34m\u001b[0m\u001b[0m\n\u001b[0;32m----> 3\u001b[0;31m                                 longitudes=torontoData[\"Longitude\"])\n\u001b[0m\u001b[1;32m      4\u001b[0m \u001b[0mtorontoVenues\u001b[0m\u001b[0;34m.\u001b[0m\u001b[0mhead\u001b[0m\u001b[0;34m(\u001b[0m\u001b[0;34m)\u001b[0m\u001b[0;34m\u001b[0m\u001b[0m\n",
      "\u001b[0;32m<ipython-input-5-b50f74345711>\u001b[0m in \u001b[0;36mgetNearbyVenues\u001b[0;34m(names, latitudes, longitudes, radius, limit)\u001b[0m\n\u001b[1;32m     16\u001b[0m \u001b[0;34m\u001b[0m\u001b[0m\n\u001b[1;32m     17\u001b[0m         \u001b[0;31m# make the GET request\u001b[0m\u001b[0;34m\u001b[0m\u001b[0;34m\u001b[0m\u001b[0m\n\u001b[0;32m---> 18\u001b[0;31m         \u001b[0mresults\u001b[0m \u001b[0;34m=\u001b[0m \u001b[0mrequests\u001b[0m\u001b[0;34m.\u001b[0m\u001b[0mget\u001b[0m\u001b[0;34m(\u001b[0m\u001b[0murl\u001b[0m\u001b[0;34m)\u001b[0m\u001b[0;34m.\u001b[0m\u001b[0mjson\u001b[0m\u001b[0;34m(\u001b[0m\u001b[0;34m)\u001b[0m\u001b[0;34m[\u001b[0m\u001b[0;34m\"response\"\u001b[0m\u001b[0;34m]\u001b[0m\u001b[0;34m[\u001b[0m\u001b[0;34m'groups'\u001b[0m\u001b[0;34m]\u001b[0m\u001b[0;34m[\u001b[0m\u001b[0;36m0\u001b[0m\u001b[0;34m]\u001b[0m\u001b[0;34m[\u001b[0m\u001b[0;34m'items'\u001b[0m\u001b[0;34m]\u001b[0m\u001b[0;34m\u001b[0m\u001b[0m\n\u001b[0m\u001b[1;32m     19\u001b[0m \u001b[0;34m\u001b[0m\u001b[0m\n\u001b[1;32m     20\u001b[0m         \u001b[0;31m# return only relevant information for each nearby venue\u001b[0m\u001b[0;34m\u001b[0m\u001b[0;34m\u001b[0m\u001b[0m\n",
      "\u001b[0;31mKeyError\u001b[0m: 'groups'"
     ]
    }
   ],
   "source": [
    "torontoVenues = getNearbyVenues(names     =torontoData[\"Neighborhood\"],\n",
    "                                latitudes =torontoData[\"Latitude\"],\n",
    "                                longitudes=torontoData[\"Longitude\"])\n",
    "torontoVenues.head()"
   ]
  },
  {
   "cell_type": "code",
   "execution_count": null,
   "metadata": {},
   "outputs": [],
   "source": [
    "torontoVenues.groupby(\"Neighborhood\").count()\n",
    "print(\"There are {} uniques categories.\".format(len(torontoVenues[\"Venue Category\"].unique())))"
   ]
  },
  {
   "cell_type": "markdown",
   "metadata": {},
   "source": [
    "Apply one hot encoding for the venue categories"
   ]
  },
  {
   "cell_type": "code",
   "execution_count": null,
   "metadata": {},
   "outputs": [],
   "source": [
    "# one hot encoding\n",
    "torontoOnehot = pd.get_dummies(torontoVenues[[\"Venue Category\"]], prefix=\"\", prefix_sep=\"\")\n",
    "\n",
    "# add neighborhood column back to dataframe\n",
    "torontoOnehot[\"Neighborhood\"] = torontoVenues[\"Neighborhood\"] \n",
    "\n",
    "# move neighborhood column to the first column\n",
    "fixedColumns  = [torontoOnehot.columns[-1]] + list(torontoOnehot.columns[:-1])\n",
    "torontoOnehot = torontoOnehot[fixedColumns]\n",
    "\n",
    "torontoOnehot.head()"
   ]
  },
  {
   "cell_type": "markdown",
   "metadata": {},
   "source": [
    "Group the rows by neighborhood and by taking the mean of the frequency of occurrence of each category"
   ]
  },
  {
   "cell_type": "code",
   "execution_count": null,
   "metadata": {},
   "outputs": [],
   "source": [
    "torontoGrouped = torontoOnehot.groupby(\"Neighborhood\").mean().reset_index()\n",
    "torontoGrouped"
   ]
  },
  {
   "cell_type": "markdown",
   "metadata": {},
   "source": [
    "Print each neighborhood along with the top 5 most common venues"
   ]
  },
  {
   "cell_type": "code",
   "execution_count": null,
   "metadata": {
    "code_folding": []
   },
   "outputs": [],
   "source": [
    "numTopVenues = 5\n",
    "\n",
    "for hood in torontoGrouped['Neighborhood']:\n",
    "    print(\"----\"+hood+\"----\")\n",
    "    temp = torontoGrouped[torontoGrouped['Neighborhood'] == hood].T.reset_index()\n",
    "    temp.columns = ['venue','freq']\n",
    "    temp = temp.iloc[1:]\n",
    "    temp['freq'] = temp['freq'].astype(float)\n",
    "    temp = temp.round({'freq': 2})\n",
    "    print(temp.sort_values('freq', ascending=False).reset_index(drop=True).head(numTopVenues))\n",
    "    print('\\n')"
   ]
  },
  {
   "cell_type": "markdown",
   "metadata": {},
   "source": [
    "Create a function to sort the venues in descending order"
   ]
  },
  {
   "cell_type": "code",
   "execution_count": null,
   "metadata": {},
   "outputs": [],
   "source": [
    "def mostCommonVenues(row, numTopVenues):\n",
    "    rowCategories       = row.iloc[1:]\n",
    "    rowCategoriesSorted = rowCategories.sort_values(ascending=False)\n",
    "    \n",
    "    return rowCategoriesSorted.index.values[0:numTopVenues]"
   ]
  },
  {
   "cell_type": "markdown",
   "metadata": {},
   "source": [
    "Create a new dataframe and display the top 10 venues for each neighborhood"
   ]
  },
  {
   "cell_type": "code",
   "execution_count": null,
   "metadata": {},
   "outputs": [],
   "source": [
    "numTopVenues = 10\n",
    "indicators   = [\"st\", \"nd\", \"rd\"]\n",
    "\n",
    "# create columns according to number of top venues\n",
    "columns = [\"Neighborhood\"]\n",
    "for ind in np.arange(numTopVenues):\n",
    "    try:\n",
    "        columns.append('{}{} Most Common Venue'.format(ind+1, indicators[ind]))\n",
    "    except:\n",
    "        columns.append('{}th Most Common Venue'.format(ind+1))\n",
    "\n",
    "# create a new dataframe\n",
    "neighborhoodsVenuesSorted                 = pd.DataFrame(columns=columns)\n",
    "neighborhoodsVenuesSorted[\"Neighborhood\"] = torontoGrouped[\"Neighborhood\"]\n",
    "\n",
    "for ind in np.arange(torontoGrouped.shape[0]):\n",
    "    neighborhoodsVenuesSorted.iloc[ind, 1:] = mostCommonVenues(torontoGrouped.iloc[ind, :], numTopVenues)\n",
    "\n",
    "neighborhoodsVenuesSorted.head()"
   ]
  },
  {
   "cell_type": "markdown",
   "metadata": {
    "heading_collapsed": true
   },
   "source": [
    "### Cluster Neighborhoods"
   ]
  },
  {
   "cell_type": "markdown",
   "metadata": {
    "hidden": true
   },
   "source": [
    "Run k-means to cluster the neighborhood into 5 clusters"
   ]
  },
  {
   "cell_type": "code",
   "execution_count": null,
   "metadata": {
    "hidden": true
   },
   "outputs": [],
   "source": [
    "numClusters = 10\n",
    "\n",
    "torontoGroupedClustering = torontoGrouped.drop(\"Neighborhood\", 1)\n",
    "\n",
    "# run k-means clustering\n",
    "kmeans = KMeans(n_clusters=numClusters, random_state=0).fit(torontoGroupedClustering)\n",
    "\n",
    "# check cluster labels generated for each row in the dataframe\n",
    "kmeans.labels_[0:10] "
   ]
  },
  {
   "cell_type": "markdown",
   "metadata": {
    "hidden": true
   },
   "source": [
    "Create a new dataframe that includes the cluster as well as the top 10 venues for each neighborhood"
   ]
  },
  {
   "cell_type": "code",
   "execution_count": null,
   "metadata": {
    "hidden": true
   },
   "outputs": [],
   "source": [
    "# add clustering labels\n",
    "neighborhoodsVenuesSorted.insert(0, \"Cluster Labels\", kmeans.labels_)\n",
    "\n",
    "torontoMerged = torontoData\n",
    "\n",
    "# merge toronto_grouped with toronto_data to add latitude/longitude for each neighborhood\n",
    "torontoMerged = torontoMerged.join(neighborhoodsVenuesSorted.set_index(\"Neighborhood\"), on=\"Neighborhood\")\n",
    "\n",
    "torontoMerged.head() # check the last columns!"
   ]
  },
  {
   "cell_type": "markdown",
   "metadata": {
    "hidden": true
   },
   "source": [
    "Create a folium map and visualize the resulting clusters"
   ]
  },
  {
   "cell_type": "code",
   "execution_count": 48,
   "metadata": {
    "code_folding": [
     0
    ],
    "hidden": true
   },
   "outputs": [
    {
     "data": {
      "text/html": [
       "<div style=\"width:100%;\"><div style=\"position:relative;width:100%;height:0;padding-bottom:60%;\"><iframe src=\"about:blank\" style=\"position:absolute;width:100%;height:100%;left:0;top:0;border:none !important;\" data-html=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 onload=\"this.contentDocument.open();this.contentDocument.write(atob(this.getAttribute('data-html')));this.contentDocument.close();\" allowfullscreen webkitallowfullscreen mozallowfullscreen></iframe></div></div>"
      ],
      "text/plain": [
       "<folium.folium.Map at 0x12b696ef0>"
      ]
     },
     "execution_count": 48,
     "metadata": {},
     "output_type": "execute_result"
    }
   ],
   "source": [
    "# create map\n",
    "mapClusters = folium.Map(location=[toronto.latitude, toronto.longitude], zoom_start=11)\n",
    "\n",
    "# set color scheme for the clusters\n",
    "x          = np.arange(numClusters)\n",
    "ys         = [i + x + (i*x)**2 for i in range(numClusters)]\n",
    "colorArray = cm.rainbow(np.linspace(0, 1, len(ys)))\n",
    "rainbow    = [colors.rgb2hex(i) for i in colorArray]\n",
    "\n",
    "# add markers to the map\n",
    "markerColours = []\n",
    "for lat, lon, poi, cluster in zip(torontoMerged[\"Latitude\"], torontoMerged[\"Longitude\"], torontoMerged[\"Neighborhood\"], torontoMerged[\"Cluster Labels\"]):\n",
    "    label = folium.Popup(str(poi) + ' Cluster ' + str(cluster), parse_html=True)\n",
    "    folium.CircleMarker(\n",
    "        [lat, lon],\n",
    "        radius=5,\n",
    "        popup=label,\n",
    "        color=rainbow[cluster-1],\n",
    "        fill=True,\n",
    "        fill_color=rainbow[cluster-1],\n",
    "        fill_opacity=0.7).add_to(mapClusters)\n",
    "       \n",
    "mapClusters"
   ]
  },
  {
   "cell_type": "markdown",
   "metadata": {
    "hidden": true
   },
   "source": [
    "One observation is that all of the neighborhoods around the centre of Toronto appear to be very similar. I experimented with 2, 5, and 10 clusters and found that when there is a small 'pocket' just north of the CBD which appears unique. With 5 clusters the neighborhoods to the north and the east appear quite different, and with 10 clusters, neighborhoods to the south west appear different. "
   ]
  }
 ],
 "metadata": {
  "kernelspec": {
   "display_name": "Python 3",
   "language": "python",
   "name": "python3"
  },
  "language_info": {
   "codemirror_mode": {
    "name": "ipython",
    "version": 3
   },
   "file_extension": ".py",
   "mimetype": "text/x-python",
   "name": "python",
   "nbconvert_exporter": "python",
   "pygments_lexer": "ipython3",
   "version": "3.5.9"
  },
  "latex_envs": {
   "LaTeX_envs_menu_present": true,
   "autoclose": false,
   "autocomplete": true,
   "bibliofile": "biblio.bib",
   "cite_by": "apalike",
   "current_citInitial": 1,
   "eqLabelWithNumbers": true,
   "eqNumInitial": 1,
   "hotkeys": {
    "equation": "Ctrl-E",
    "itemize": "Ctrl-I"
   },
   "labels_anchors": false,
   "latex_user_defs": false,
   "report_style_numbering": false,
   "user_envs_cfg": false
  }
 },
 "nbformat": 4,
 "nbformat_minor": 4
}
